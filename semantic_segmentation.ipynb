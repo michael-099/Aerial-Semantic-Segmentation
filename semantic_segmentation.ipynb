{
 "cells": [
  {
   "cell_type": "code",
   "execution_count": 1,
   "id": "1489c0f9",
   "metadata": {},
   "outputs": [
    {
     "name": "stdout",
     "output_type": "stream",
     "text": [
      "Collecting tensorflow\n",
      "  Using cached tensorflow-2.19.0-cp312-cp312-win_amd64.whl.metadata (4.1 kB)\n",
      "Requirement already satisfied: numpy in c:\\users\\micha\\anaconda3\\envs\\semantic-segmentation\\lib\\site-packages (2.1.3)\n",
      "Requirement already satisfied: pillow in c:\\users\\micha\\anaconda3\\envs\\semantic-segmentation\\lib\\site-packages (11.2.1)\n",
      "Requirement already satisfied: absl-py>=1.0.0 in c:\\users\\micha\\anaconda3\\envs\\semantic-segmentation\\lib\\site-packages (from tensorflow) (2.3.0)\n",
      "Requirement already satisfied: astunparse>=1.6.0 in c:\\users\\micha\\anaconda3\\envs\\semantic-segmentation\\lib\\site-packages (from tensorflow) (1.6.3)\n",
      "Requirement already satisfied: flatbuffers>=24.3.25 in c:\\users\\micha\\anaconda3\\envs\\semantic-segmentation\\lib\\site-packages (from tensorflow) (25.2.10)\n",
      "Requirement already satisfied: gast!=0.5.0,!=0.5.1,!=0.5.2,>=0.2.1 in c:\\users\\micha\\anaconda3\\envs\\semantic-segmentation\\lib\\site-packages (from tensorflow) (0.6.0)\n",
      "Requirement already satisfied: google-pasta>=0.1.1 in c:\\users\\micha\\anaconda3\\envs\\semantic-segmentation\\lib\\site-packages (from tensorflow) (0.2.0)\n",
      "Requirement already satisfied: libclang>=13.0.0 in c:\\users\\micha\\anaconda3\\envs\\semantic-segmentation\\lib\\site-packages (from tensorflow) (18.1.1)\n",
      "Requirement already satisfied: opt-einsum>=2.3.2 in c:\\users\\micha\\anaconda3\\envs\\semantic-segmentation\\lib\\site-packages (from tensorflow) (3.4.0)\n",
      "Requirement already satisfied: packaging in c:\\users\\micha\\anaconda3\\envs\\semantic-segmentation\\lib\\site-packages (from tensorflow) (25.0)\n",
      "Requirement already satisfied: protobuf!=4.21.0,!=4.21.1,!=4.21.2,!=4.21.3,!=4.21.4,!=4.21.5,<6.0.0dev,>=3.20.3 in c:\\users\\micha\\anaconda3\\envs\\semantic-segmentation\\lib\\site-packages (from tensorflow) (5.29.5)\n",
      "Requirement already satisfied: requests<3,>=2.21.0 in c:\\users\\micha\\anaconda3\\envs\\semantic-segmentation\\lib\\site-packages (from tensorflow) (2.32.4)\n",
      "Requirement already satisfied: setuptools in c:\\users\\micha\\anaconda3\\envs\\semantic-segmentation\\lib\\site-packages (from tensorflow) (78.1.1)\n",
      "Requirement already satisfied: six>=1.12.0 in c:\\users\\micha\\anaconda3\\envs\\semantic-segmentation\\lib\\site-packages (from tensorflow) (1.17.0)\n",
      "Requirement already satisfied: termcolor>=1.1.0 in c:\\users\\micha\\anaconda3\\envs\\semantic-segmentation\\lib\\site-packages (from tensorflow) (3.1.0)\n",
      "Requirement already satisfied: typing-extensions>=3.6.6 in c:\\users\\micha\\anaconda3\\envs\\semantic-segmentation\\lib\\site-packages (from tensorflow) (4.14.0)\n",
      "Requirement already satisfied: wrapt>=1.11.0 in c:\\users\\micha\\anaconda3\\envs\\semantic-segmentation\\lib\\site-packages (from tensorflow) (1.17.2)\n",
      "Requirement already satisfied: grpcio<2.0,>=1.24.3 in c:\\users\\micha\\anaconda3\\envs\\semantic-segmentation\\lib\\site-packages (from tensorflow) (1.73.0)\n",
      "Requirement already satisfied: tensorboard~=2.19.0 in c:\\users\\micha\\anaconda3\\envs\\semantic-segmentation\\lib\\site-packages (from tensorflow) (2.19.0)\n",
      "Requirement already satisfied: keras>=3.5.0 in c:\\users\\micha\\anaconda3\\envs\\semantic-segmentation\\lib\\site-packages (from tensorflow) (3.10.0)\n",
      "Requirement already satisfied: h5py>=3.11.0 in c:\\users\\micha\\anaconda3\\envs\\semantic-segmentation\\lib\\site-packages (from tensorflow) (3.14.0)\n",
      "Requirement already satisfied: ml-dtypes<1.0.0,>=0.5.1 in c:\\users\\micha\\anaconda3\\envs\\semantic-segmentation\\lib\\site-packages (from tensorflow) (0.5.1)\n",
      "Requirement already satisfied: charset_normalizer<4,>=2 in c:\\users\\micha\\anaconda3\\envs\\semantic-segmentation\\lib\\site-packages (from requests<3,>=2.21.0->tensorflow) (3.4.2)\n",
      "Requirement already satisfied: idna<4,>=2.5 in c:\\users\\micha\\anaconda3\\envs\\semantic-segmentation\\lib\\site-packages (from requests<3,>=2.21.0->tensorflow) (3.10)\n",
      "Requirement already satisfied: urllib3<3,>=1.21.1 in c:\\users\\micha\\anaconda3\\envs\\semantic-segmentation\\lib\\site-packages (from requests<3,>=2.21.0->tensorflow) (2.4.0)\n",
      "Requirement already satisfied: certifi>=2017.4.17 in c:\\users\\micha\\anaconda3\\envs\\semantic-segmentation\\lib\\site-packages (from requests<3,>=2.21.0->tensorflow) (2025.6.15)\n",
      "Requirement already satisfied: markdown>=2.6.8 in c:\\users\\micha\\anaconda3\\envs\\semantic-segmentation\\lib\\site-packages (from tensorboard~=2.19.0->tensorflow) (3.8.2)\n",
      "Requirement already satisfied: tensorboard-data-server<0.8.0,>=0.7.0 in c:\\users\\micha\\anaconda3\\envs\\semantic-segmentation\\lib\\site-packages (from tensorboard~=2.19.0->tensorflow) (0.7.2)\n",
      "Requirement already satisfied: werkzeug>=1.0.1 in c:\\users\\micha\\anaconda3\\envs\\semantic-segmentation\\lib\\site-packages (from tensorboard~=2.19.0->tensorflow) (3.1.3)\n",
      "Requirement already satisfied: wheel<1.0,>=0.23.0 in c:\\users\\micha\\anaconda3\\envs\\semantic-segmentation\\lib\\site-packages (from astunparse>=1.6.0->tensorflow) (0.45.1)\n",
      "Requirement already satisfied: rich in c:\\users\\micha\\anaconda3\\envs\\semantic-segmentation\\lib\\site-packages (from keras>=3.5.0->tensorflow) (14.0.0)\n",
      "Requirement already satisfied: namex in c:\\users\\micha\\anaconda3\\envs\\semantic-segmentation\\lib\\site-packages (from keras>=3.5.0->tensorflow) (0.1.0)\n",
      "Requirement already satisfied: optree in c:\\users\\micha\\anaconda3\\envs\\semantic-segmentation\\lib\\site-packages (from keras>=3.5.0->tensorflow) (0.16.0)\n",
      "Requirement already satisfied: MarkupSafe>=2.1.1 in c:\\users\\micha\\anaconda3\\envs\\semantic-segmentation\\lib\\site-packages (from werkzeug>=1.0.1->tensorboard~=2.19.0->tensorflow) (3.0.2)\n",
      "Requirement already satisfied: markdown-it-py>=2.2.0 in c:\\users\\micha\\anaconda3\\envs\\semantic-segmentation\\lib\\site-packages (from rich->keras>=3.5.0->tensorflow) (3.0.0)\n",
      "Requirement already satisfied: pygments<3.0.0,>=2.13.0 in c:\\users\\micha\\anaconda3\\envs\\semantic-segmentation\\lib\\site-packages (from rich->keras>=3.5.0->tensorflow) (2.19.1)\n",
      "Requirement already satisfied: mdurl~=0.1 in c:\\users\\micha\\anaconda3\\envs\\semantic-segmentation\\lib\\site-packages (from markdown-it-py>=2.2.0->rich->keras>=3.5.0->tensorflow) (0.1.2)\n",
      "Using cached tensorflow-2.19.0-cp312-cp312-win_amd64.whl (376.0 MB)\n",
      "Installing collected packages: tensorflow\n",
      "Successfully installed tensorflow-2.19.0\n",
      "Note: you may need to restart the kernel to use updated packages.\n"
     ]
    }
   ],
   "source": [
    "pip install tensorflow numpy pillow\n"
   ]
  },
  {
   "cell_type": "code",
   "execution_count": 2,
   "id": "8220fbce",
   "metadata": {},
   "outputs": [
    {
     "name": "stderr",
     "output_type": "stream",
     "text": [
      "c:\\Users\\micha\\anaconda3\\envs\\semantic-segmentation\\Lib\\site-packages\\tqdm\\auto.py:21: TqdmWarning: IProgress not found. Please update jupyter and ipywidgets. See https://ipywidgets.readthedocs.io/en/stable/user_install.html\n",
      "  from .autonotebook import tqdm as notebook_tqdm\n"
     ]
    },
    {
     "name": "stdout",
     "output_type": "stream",
     "text": [
      "Path to dataset files: C:\\Users\\micha\\.cache\\kagglehub\\datasets\\bulentsiyah\\semantic-drone-dataset\\versions\\6\n"
     ]
    }
   ],
   "source": [
    "import tensorflow as tf\n",
    "import numpy as np\n",
    "import os\n",
    "from PIL import Image\n",
    "import kagglehub\n",
    "\n",
    "path = kagglehub.dataset_download(\"bulentsiyah/semantic-drone-dataset\")\n",
    "print(\"Path to dataset files:\", path)\n"
   ]
  },
  {
   "cell_type": "code",
   "execution_count": null,
   "id": "0bdd3cd1",
   "metadata": {},
   "outputs": [],
   "source": [
    "\n",
    "class SegmentationGenerator(tf.keras.utils.Sequence):\n",
    "    def __init__(self, image_dir, mask_dir, batch_size, image_size):\n",
    "        self.image_dir = image_dir\n",
    "        self.mask_dir = mask_dir\n",
    "        self.image_filenames = os.listdir(image_dir)\n",
    "        self.batch_size = batch_size\n",
    "        self.image_size = image_size\n",
    "\n",
    "    def __len__(self):\n",
    "        return int(np.ceil(len(self.image_filenames) / self.batch_size))\n",
    "\n",
    "    def __getitem__(self, idx):\n",
    "        batch_files = self.image_filenames[idx * self.batch_size:(idx + 1) * self.batch_size]\n",
    "        images, masks = [], []\n",
    "\n",
    "        for filename in batch_files:\n",
    "            img = Image.open(os.path.join(self.image_dir, filename)).resize(self.image_size)\n",
    "            mask_name = filename.replace('.jpg', '_mask.png')\n",
    "            mask = Image.open(os.path.join(self.mask_dir, mask_name)).resize(self.image_size)\n",
    "\n",
    "            images.append(np.array(img) / 255.0)\n",
    "            masks.append(np.array(mask))\n",
    "\n",
    "        return np.array(images), np.array(masks)\n",
    "\n",
    "# Instantiate generator\n",
    "images_path = r\"C:\\Users\\micha\\.cache\\kagglehub\\datasets\\bulentsiyah\\semantic-drone-dataset\\versions\\6\\dataset\\semantic_drone_dataset\\original_images\"\n",
    "mask_path   = r\"C:\\Users\\micha\\.cache\\kagglehub\\datasets\\bulentsiyah\\semantic-drone-dataset\\versions\\6\\RGB_color_image_masks\\RGB_color_image_masks\"\n",
    "\n",
    "train_gen = SegmentationGenerator(images_path, mask_path, batch_size=4, image_size=(256, 256))\n"
   ]
  }
 ],
 "metadata": {
  "kernelspec": {
   "display_name": "semantic-segmentation",
   "language": "python",
   "name": "semantic-segmentation"
  },
  "language_info": {
   "codemirror_mode": {
    "name": "ipython",
    "version": 3
   },
   "file_extension": ".py",
   "mimetype": "text/x-python",
   "name": "python",
   "nbconvert_exporter": "python",
   "pygments_lexer": "ipython3",
   "version": "3.12.11"
  }
 },
 "nbformat": 4,
 "nbformat_minor": 5
}
